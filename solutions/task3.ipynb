{
 "cells": [
  {
   "cell_type": "code",
   "execution_count": 2,
   "metadata": {},
   "outputs": [
    {
     "name": "stdout",
     "output_type": "stream",
     "text": [
      "Cool! 0\n"
     ]
    }
   ],
   "source": [
    "import sys\n",
    "import time \n",
    "\n",
    "import pg8000.native\n",
    "import psycopg2\n",
    "from faker import Faker\n",
    "\n",
    "try:\n",
    "    con = psycopg2.connect(database=\"postgres\", user=\"postgres\", password=\"1\", host=\"127.0.0.1\", port=\"5432\")\n",
    "    cur = con.cursor()\n",
    "    print(\"Cool!\", con.closed)\n",
    "except BaseException as be:\n",
    "    print(\"Impossible to connect to db:\", be)\n",
    "    sys.exit(1)"
   ]
  },
  {
   "cell_type": "code",
   "execution_count": 2,
   "metadata": {},
   "outputs": [],
   "source": [
    "cur.execute(\"create table u (id integer primary key, mac_add macaddr, ip inet, country text, last_access date);\")"
   ]
  },
  {
   "cell_type": "code",
   "execution_count": 3,
   "metadata": {},
   "outputs": [],
   "source": [
    "con.commit()"
   ]
  },
  {
   "cell_type": "code",
   "execution_count": 15,
   "metadata": {},
   "outputs": [],
   "source": [
    "con.reset()"
   ]
  },
  {
   "cell_type": "code",
   "execution_count": 5,
   "metadata": {},
   "outputs": [],
   "source": [
    "fake = Faker()\n",
    "\n",
    "for i in range(10): \n",
    "    cur.execute(f\"insert into u (id, mac_add, ip, country, last_access) values ({i}, '{fake.mac_address()}', '{fake.ipv4()}', '{fake.country()}', '{fake.date()}')\")"
   ]
  },
  {
   "cell_type": "code",
   "execution_count": 8,
   "metadata": {},
   "outputs": [
    {
     "name": "stdout",
     "output_type": "stream",
     "text": [
      "(0, '87:f2:2c:b4:f6:ad', '66.107.27.113', 'Nigeria', datetime.date(1983, 3, 28))\n",
      "(1, '9d:4b:98:5d:30:dc', '135.73.51.243', 'Mongolia', datetime.date(1977, 1, 31))\n",
      "(2, '83:7a:11:b3:42:dc', '203.141.139.63', 'Martinique', datetime.date(1976, 9, 4))\n",
      "(3, 'f1:48:88:05:a4:0f', '129.71.99.155', 'Ireland', datetime.date(1997, 5, 8))\n",
      "(4, 'a5:ba:29:8b:8e:47', '8.223.173.125', 'Grenada', datetime.date(1975, 3, 7))\n",
      "(5, '01:2b:6c:7f:08:17', '185.240.13.20', 'Kyrgyz Republic', datetime.date(1979, 3, 26))\n",
      "(6, 'f0:c9:5b:9e:d2:8d', '43.241.183.235', 'Belgium', datetime.date(2010, 6, 22))\n",
      "(7, 'f0:f6:36:e5:b7:f4', '167.106.203.66', 'Antigua and Barbuda', datetime.date(1986, 1, 23))\n",
      "(8, '3f:5f:ff:74:e8:44', '49.130.232.81', 'Kyrgyz Republic', datetime.date(2022, 4, 11))\n",
      "(9, '9d:9d:d8:75:c0:92', '99.32.8.250', 'Mozambique', datetime.date(1983, 5, 26))\n"
     ]
    }
   ],
   "source": [
    "cur.execute(\"select * from u;\")\n",
    "for r in cur:                                                                                                                                                                                                                                               \n",
    "    print(r)"
   ]
  },
  {
   "cell_type": "code",
   "execution_count": null,
   "metadata": {},
   "outputs": [],
   "source": [
    "cur.execute(\"CREATE ON REPLACE PROCEDURE next_free_id ( \\\n",
    ") AS \\\n",
    "BEGIN \\\n",
    "    insert into u (mac_add, ip, country, last_access) values ( \\\n",
    "            (select format('%s%s.%s%s.%s%s.%s%s.%s%s.%s%s',to_hex(floor(random()*16)::int), to_hex(floor(random()*16)::int),to_hex(floor(random()*16)::int), to_hex(floor(random()*16)::int),to_hex(floor(random()*16)::int), to_hex(floor(random()*16)::int),to_hex(floor(random()*16)::int), to_hex(floor(random()*16)::int),to_hex(floor(random()*16)::int), to_hex(floor(random()*16)::int),to_hex(floor(random()*16)::int), to_hex(floor(random()*16)::int)))), \\\n",
    "                random(), random(), random())\\\n",
    "End;\") "
   ]
  },
  {
   "cell_type": "code",
   "execution_count": 41,
   "metadata": {},
   "outputs": [],
   "source": [
    "con.reset()"
   ]
  },
  {
   "cell_type": "code",
   "execution_count": 44,
   "metadata": {},
   "outputs": [
    {
     "name": "stdout",
     "output_type": "stream",
     "text": [
      "('ae.b0.18.1f.3b.02',)\n"
     ]
    }
   ],
   "source": [
    "cur.execute(\"create\")\n",
    "for r in cur:\n",
    "    print(r)"
   ]
  }
 ],
 "metadata": {
  "interpreter": {
   "hash": "adfe6d40f7bdf22355c33f803922035b3f5e6d51409cb63d3625f4c22a58b436"
  },
  "kernelspec": {
   "display_name": "Python 3.9.12 64-bit (windows store)",
   "language": "python",
   "name": "python3"
  },
  "language_info": {
   "codemirror_mode": {
    "name": "ipython",
    "version": 3
   },
   "file_extension": ".py",
   "mimetype": "text/x-python",
   "name": "python",
   "nbconvert_exporter": "python",
   "pygments_lexer": "ipython3",
   "version": "3.9.12"
  },
  "orig_nbformat": 4
 },
 "nbformat": 4,
 "nbformat_minor": 2
}
