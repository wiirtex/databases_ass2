{
 "cells": [
  {
   "cell_type": "code",
   "execution_count": null,
   "metadata": {},
   "outputs": [],
   "source": [
    "! pip install pg8000\n",
    "! pip install psycopg2\n",
    "! pip install Faker"
   ]
  },
  {
   "cell_type": "code",
   "execution_count": 58,
   "metadata": {},
   "outputs": [],
   "source": [
    "import sys\n",
    "import time \n",
    "\n",
    "import pg8000.native\n",
    "import psycopg2\n",
    "from faker import Faker"
   ]
  },
  {
   "cell_type": "code",
   "execution_count": 130,
   "metadata": {},
   "outputs": [
    {
     "name": "stdout",
     "output_type": "stream",
     "text": [
      "0.0%\n",
      "5.0%\n",
      "10.0%\n",
      "15.0%\n",
      "20.0%\n",
      "25.0%\n",
      "30.0%\n",
      "35.0%\n",
      "40.0%\n",
      "45.0%\n",
      "50.0%\n",
      "55.00000000000001%\n",
      "60.0%\n",
      "65.0%\n",
      "70.0%\n",
      "75.0%\n",
      "80.0%\n",
      "85.0%\n",
      "90.0%\n",
      "95.0%\n",
      "100.0%\n",
      "all generated\n",
      "all sorted on 4th value\n"
     ]
    }
   ],
   "source": [
    "fake_customers = [] \n",
    "num = 1000000\n",
    "fake = Faker()\n",
    "\n",
    "def create_fake_customers(number: int) -> list((str, str, str, str, str, str)):\n",
    "    res = []\n",
    "    for k in range(number):\n",
    "        if k % 50000 == 0:\n",
    "            print(k / number * 100, \"%\", sep='')\n",
    "        res.append((str(k), fake.name(), fake.address(), fake.text(), fake.date(), fake.ascii_email()))\n",
    "    print(\"100.0%\")\n",
    "    return res\n",
    "\n",
    "\n",
    "fake_customers = create_fake_customers(num)\n",
    "print(\"all generated\")\n",
    "# to show results of using BRIN index, we need to somehow sort this by some value, for example, birthday:\n",
    "fake_customers.sort(key=lambda x: x[4])\n",
    "print(\"all sorted on 4th value\")"
   ]
  },
  {
   "cell_type": "code",
   "execution_count": null,
   "metadata": {},
   "outputs": [],
   "source": [
    "try:\n",
    "    con = psycopg2.connect(database=\"postgres\", user=\"postgres\", password=\"1\", host=\"127.0.0.1\", port=\"5432\")\n",
    "    cur = con.cursor()\n",
    "except BaseException as be:\n",
    "    print(\"Impossible to connect to db:\", be)\n",
    "    sys.exit(1)"
   ]
  },
  {
   "cell_type": "code",
   "execution_count": 54,
   "metadata": {},
   "outputs": [],
   "source": [
    "con.commit()"
   ]
  },
  {
   "cell_type": "code",
   "execution_count": 131,
   "metadata": {},
   "outputs": [
    {
     "name": "stdout",
     "output_type": "stream",
     "text": [
      "0.0%\n",
      "1.0%\n",
      "2.0%\n",
      "3.0%\n",
      "4.0%\n",
      "5.0%\n",
      "6.0%\n",
      "7.000000000000001%\n",
      "8.0%\n",
      "9.0%\n",
      "10.0%\n",
      "11.0%\n",
      "12.0%\n",
      "13.0%\n",
      "14.000000000000002%\n",
      "15.0%\n",
      "16.0%\n",
      "17.0%\n",
      "18.0%\n",
      "19.0%\n",
      "20.0%\n",
      "21.0%\n",
      "22.0%\n",
      "23.0%\n",
      "24.0%\n",
      "25.0%\n",
      "26.0%\n",
      "27.0%\n",
      "28.000000000000004%\n",
      "28.999999999999996%\n",
      "30.0%\n",
      "31.0%\n",
      "32.0%\n",
      "33.0%\n",
      "34.0%\n",
      "35.0%\n",
      "36.0%\n",
      "37.0%\n",
      "38.0%\n",
      "39.0%\n",
      "40.0%\n",
      "41.0%\n",
      "42.0%\n",
      "43.0%\n",
      "44.0%\n",
      "45.0%\n",
      "46.0%\n",
      "47.0%\n",
      "48.0%\n",
      "49.0%\n",
      "50.0%\n",
      "51.0%\n",
      "52.0%\n",
      "53.0%\n",
      "54.0%\n",
      "55.00000000000001%\n",
      "56.00000000000001%\n",
      "56.99999999999999%\n",
      "57.99999999999999%\n",
      "59.0%\n",
      "60.0%\n",
      "61.0%\n",
      "62.0%\n",
      "63.0%\n",
      "64.0%\n",
      "65.0%\n",
      "66.0%\n",
      "67.0%\n",
      "68.0%\n",
      "69.0%\n",
      "70.0%\n",
      "71.0%\n",
      "72.0%\n",
      "73.0%\n",
      "74.0%\n",
      "75.0%\n",
      "76.0%\n",
      "77.0%\n",
      "78.0%\n",
      "79.0%\n",
      "80.0%\n",
      "81.0%\n",
      "82.0%\n",
      "83.0%\n",
      "84.0%\n",
      "85.0%\n",
      "86.0%\n",
      "87.0%\n",
      "88.0%\n",
      "89.0%\n",
      "90.0%\n",
      "91.0%\n",
      "92.0%\n",
      "93.0%\n",
      "94.0%\n",
      "95.0%\n",
      "96.0%\n",
      "97.0%\n",
      "98.0%\n",
      "99.0%\n",
      "100.0%\n"
     ]
    }
   ],
   "source": [
    "# initialisation\n",
    "cur.execute(\"drop table if exists customers;\")\n",
    "cur.execute(\"create table if not exists customers (id integer primary key, name text, address text, review text,birthday date, email text)\")\n",
    "\n",
    "\n",
    "for i in range(num):\n",
    "    if i % 10000 == 0:\n",
    "        print(i / num * 100, \"%\", sep='')\n",
    "    fake_customer = fake_customers[i]\n",
    "    cur.execute(\"INSERT INTO customers (id,name, address,review, birthday,email) VALUES ('\" + fake_customer[0] + \"','\" + fake_customer[1] + \"','\" + fake_customer[2] + \"','\" + fake_customer[3] + \"','\" + fake_customer[4] + \"','\" + fake_customer[5] + \"');\")\n",
    "print(\"100.0%\")\n",
    "con.commit()"
   ]
  },
  {
   "cell_type": "code",
   "execution_count": 51,
   "metadata": {},
   "outputs": [
    {
     "name": "stdout",
     "output_type": "stream",
     "text": [
      "[(0, 'Shawn Stewart', 'Unit 6288 Box 2574\\nDPO AP 87484', 'Start image reveal food loss safe per. Century speak side entire management another. Reduce nothing side when.\\nResponse reality a want best. Debate time understand.', datetime.date(1990, 9, 27), 'nguyenalexander@rollins.com'), (1, 'Gabrielle Duran', '0058 Perez Ramp\\nHoshire, IN 20330', 'Concern student catch movement interest part contain. Live anyone wait serious evidence power power behavior.\\nCare design with would.', datetime.date(2017, 8, 15), 'wjackson@hotmail.com'), (2, 'Cynthia Torres', '3444 Higgins Shoals\\nPort Stephen, WY 64961', 'Lot left be man spend. Store choose create daughter forget where field. Marriage TV indicate recently kid dream.\\nFact past travel. Suffer maintain system although kind up season.', datetime.date(1975, 10, 5), 'veronicagarcia@hanson.com'), (3, 'David Cline', '74569 Nelson Turnpike\\nWarnermouth, OR 41704', 'A never forget reflect leg billion sport choose. Official position story left remain indicate another film. Put country decision recently different hundred key.', datetime.date(1976, 7, 1), 'nunezjohn@martin.com'), (4, 'Dana Townsend', '43382 Huff Mills Apt. 515\\nFowlerborough, NY 92815', 'Develop study research memory. Manage term choose full notice treat answer. Without ability impact firm phone ask white list.', datetime.date(1992, 9, 8), 'gutierrezrobert@mitchell-terrell.com'), (5, 'Michelle Maxwell', '782 Le Extension Apt. 213\\nErinchester, MT 91501', 'Read note space my case. Despite heavy again although.', datetime.date(2000, 1, 19), 'randytaylor@lewis.com'), (6, 'Sarah Monroe', '11578 Cardenas Corners\\nNancyberg, VT 92476', 'Life build investment dream watch wait run blood. Down do go sense art.\\nVarious treat go best itself per. Chair American ask. Should staff least simply.', datetime.date(2005, 9, 25), 'janetmcclure@turner-griffith.com'), (7, 'Joseph Williams', '78565 Downs Crescent Suite 828\\nSouth Michelleside, VT 20075', 'Central remember black education provide city fire. Several section maintain community. Job fill national continue expect when.', datetime.date(1993, 6, 3), 'edwardstimothy@mcconnell.com'), (8, 'Willie Ray', '24741 Anthony Rest Apt. 817\\nNew Scottchester, NC 41927', 'Support eat food similar range. Full create subject future within she.\\nThese debate memory future. Break so whom animal over. Everything hear care whatever road example beyond.', datetime.date(1999, 5, 30), 'jonathancunningham@gmail.com'), (9, 'Joseph Sanchez', '530 Hebert Bridge\\nNew Josephmouth, ID 71132', 'Stay year only area when hair stuff. Place religious various commercial along. Would reduce degree.', datetime.date(1977, 7, 10), 'rowlanddarren@reese.com')]\n"
     ]
    }
   ],
   "source": [
    "cur.execute(\"select * from customers limit 10;\")\n",
    "print(cur.fetchall())"
   ]
  },
  {
   "cell_type": "code",
   "execution_count": 132,
   "metadata": {},
   "outputs": [],
   "source": [
    "# creating indexes\n",
    "\n",
    "cur.execute(\"create index a on customers using gin(to_tsvector('english', address));\")\n",
    "cur.execute(\"create index b on customers using gist(to_tsvector('english', review));\")\n",
    "cur.execute(\"create index c on customers using btree(name);\")\n",
    "cur.execute(\"create index d on customers using brin(birthday);\")\n",
    "cur.execute(\"create index e on customers using hash(email);\")"
   ]
  },
  {
   "cell_type": "code",
   "execution_count": 117,
   "metadata": {},
   "outputs": [],
   "source": [
    "con.commit()"
   ]
  },
  {
   "cell_type": "code",
   "execution_count": 137,
   "metadata": {},
   "outputs": [
    {
     "name": "stdout",
     "output_type": "stream",
     "text": [
      "Elapsed time for the query select * from customers where to_tsvector('english', review) @@ to_tsquery('english', 'great | product') offset 10 limit 1: 0.001999378204345703 seconds\n",
      "One of results:\n",
      "(500885, 'Sean Daniel', '75248 Michael Square Suite 487\\nLake Chelsea, RI 36523', 'Shoulder television suggest surface cover product. Research rock six suffer level.\\nWrite shoulder win minute. Head these less report. Hope whatever music.', datetime.date(1975, 1, 12), 'chavezkatie@yahoo.com')\n",
      "\n",
      "Explain and analyse:\n",
      "('Limit  (cost=21.63..23.75 rows=1 width=237) (actual time=0.496..0.496 rows=1 loops=1)',)\n",
      "('  ->  Index Scan using b on customers  (cost=0.41..137671.90 rows=64885 width=237) (actual time=0.190..0.494 rows=11 loops=1)',)\n",
      "(\"        Index Cond: (to_tsvector('english'::regconfig, review) @@ '''great'' | ''product'''::tsquery)\",)\n",
      "('Planning Time: 0.186 ms',)\n",
      "('Execution Time: 0.513 ms',)\n"
     ]
    }
   ],
   "source": [
    "# using indexes\n",
    "\n",
    "start = time.time()\n",
    "query = \"select * from customers where to_tsvector('english', review) @@ to_tsquery('english', 'great | product') offset 10 limit 1\"\n",
    "cur.execute(query)\n",
    "finish = time.time()\n",
    "print(f\"Elapsed time for the query {query}: {finish - start} seconds\\nOne of results:\")\n",
    "for r in cur:\n",
    "    print(r)\n",
    "\n",
    "\n",
    "query = \"explain analyse \" + query\n",
    "cur.execute(query)\n",
    "print(\"\\nExplain and analyse:\")\n",
    "for r in cur:\n",
    "    print(r)"
   ]
  },
  {
   "cell_type": "code",
   "execution_count": 123,
   "metadata": {},
   "outputs": [
    {
     "name": "stdout",
     "output_type": "stream",
     "text": [
      "Elapsed time for the query select * from customers where to_tsvector('english', address) @@ to_tsquery('english', 'Washingtone') offset 10 limit 1: 0.0009922981262207031 seconds\n",
      "One of results:\n",
      "(16715, 'Cheryl Walker', '960 Washington Vista\\nWest Jasonberg, DC 93590', 'Condition with hundred nature inside. Them take system camera employee positive. State all popular toward.', datetime.date(1982, 4, 5), 'stevensmith@smith-riley.com')\n",
      "\n",
      "Explain and analyse:\n",
      "('Limit  (cost=88.27..91.22 rows=1 width=237) (actual time=0.172..0.172 rows=1 loops=1)',)\n",
      "('  ->  Bitmap Heap Scan on customers  (cost=58.75..14820.11 rows=5000 width=237) (actual time=0.162..0.171 rows=11 loops=1)',)\n",
      "(\"        Recheck Cond: (to_tsvector('english'::regconfig, address) @@ '''washington'''::tsquery)\",)\n",
      "('        Heap Blocks: exact=11',)\n",
      "('        ->  Bitmap Index Scan on a  (cost=0.00..57.50 rows=5000 width=0) (actual time=0.100..0.100 rows=718 loops=1)',)\n",
      "(\"              Index Cond: (to_tsvector('english'::regconfig, address) @@ '''washington'''::tsquery)\",)\n",
      "('Planning Time: 0.121 ms',)\n",
      "('Execution Time: 0.191 ms',)\n"
     ]
    }
   ],
   "source": [
    "start = time.time()\n",
    "query = \"select * from customers where to_tsvector('english', address) @@ to_tsquery('english', 'Washingtone') offset 10 limit 1\"\n",
    "cur.execute(query)\n",
    "finish = time.time()\n",
    "print(f\"Elapsed time for the query {query}: {finish - start} seconds\\nOne of results:\")\n",
    "for r in cur:\n",
    "    print(r)\n",
    "\n",
    "\n",
    "query = \"explain analyse \" + query\n",
    "cur.execute(query)\n",
    "print(\"\\nExplain and analyse:\")\n",
    "for r in cur:\n",
    "    print(r)"
   ]
  },
  {
   "cell_type": "code",
   "execution_count": 122,
   "metadata": {},
   "outputs": [
    {
     "name": "stdout",
     "output_type": "stream",
     "text": [
      "Elapsed time for the query select * from customers where name = 'David Gomez' offset 10 limit 4: 0.0009989738464355469 seconds\n",
      "Some of results:\n",
      "(328242, 'David Gomez', '6335 Moore Rue Suite 834\\nSouth Johnmouth, KS 81525', 'Break information gun store success. Organization in guess rest professional cause. Level big lawyer collection main.', datetime.date(1984, 7, 9), 'dherman@greene-sanders.com')\n",
      "(355109, 'David Gomez', '3487 Ashley Crossroad Apt. 545\\nPort Mollyland, AR 07505', 'Well attorney natural fund. Interest hospital will style their baby cut.\\nNeed before two plant over though consumer. Open quickly leave should force.', datetime.date(2009, 8, 7), 'wendy99@mitchell.com')\n",
      "(364203, 'David Gomez', '52609 Bailey Rest\\nNew Wendy, VA 44642', 'After five seat value stock notice. Ground attack study whose ever. Reach outside out rate these us whom.\\nReduce give across respond cell. Such charge name personal coach. Page probably then prove.', datetime.date(2005, 10, 5), 'englishfrancisco@buchanan.com')\n",
      "(421844, 'David Gomez', '602 Angela Fields\\nPort Madisonchester, HI 68794', 'Others structure build its computer stay painting teacher. General article maybe after ready agree occur. All economy lose trade yeah daughter sport certainly.', datetime.date(1978, 10, 11), 'karenbenson@jones.com')\n",
      "\n",
      "Explain and analyse:\n",
      "('Limit  (cost=44.11..48.07 rows=1 width=237) (actual time=0.036..0.038 rows=4 loops=1)',)\n",
      "('  ->  Bitmap Heap Scan on customers  (cost=4.50..44.11 rows=10 width=237) (actual time=0.028..0.037 rows=14 loops=1)',)\n",
      "(\"        Recheck Cond: (name = 'David Gomez'::text)\",)\n",
      "('        Heap Blocks: exact=14',)\n",
      "('        ->  Bitmap Index Scan on c  (cost=0.00..4.50 rows=10 width=0) (actual time=0.022..0.022 rows=34 loops=1)',)\n",
      "(\"              Index Cond: (name = 'David Gomez'::text)\",)\n",
      "('Planning Time: 0.124 ms',)\n",
      "('Execution Time: 0.053 ms',)\n"
     ]
    }
   ],
   "source": [
    "start = time.time()\n",
    "query = \"select * from customers where name = 'David Gomez' offset 10 limit 4\"\n",
    "cur.execute(query)\n",
    "finish = time.time()\n",
    "print(f\"Elapsed time for the query {query}: {finish - start} seconds\\nSome of results:\")\n",
    "for r in cur:\n",
    "    print(r)\n",
    "\n",
    "\n",
    "query = \"explain analyse \" + query\n",
    "cur.execute(query)\n",
    "print(\"\\nExplain and analyse:\")\n",
    "for r in cur:\n",
    "    print(r)"
   ]
  },
  {
   "cell_type": "code",
   "execution_count": 134,
   "metadata": {},
   "outputs": [
    {
     "name": "stdout",
     "output_type": "stream",
     "text": [
      "Elapsed time for the query select * from customers where birthday between '2002-01-25' and '2002-01-27' offset 10 limit 5: 0.008993148803710938 seconds\n",
      "One of results:\n",
      "(143659, 'Dawn Wilson', '3549 Price Spur Apt. 050\\nSouth Donna, ND 11336', 'Bar gun throughout claim wind color. Page partner then newspaper key office.\\nRight away color address. Early strong paper western. Eight try language short meet tree.\\nWalk east build feel such girl.', datetime.date(2002, 1, 25), 'linda96@smith-mann.com')\n",
      "(154078, 'Brandon Gomez', '0951 Gallagher Cove\\nHernandezburgh, AK 99360', 'Management reduce their life bar entire safe. Worker various power yet study short management reveal. Charge market three somebody standard cost.', datetime.date(2002, 1, 25), 'bmckay@lopez-holt.com')\n",
      "(163510, 'Marc Randolph', '2254 Mcmillan Isle\\nSouth Michael, MT 14532', 'Every in company player. Cup whose street energy at office social. Economic trouble number say mother sure.', datetime.date(2002, 1, 25), 'reneerogers@owens-williams.com')\n",
      "(246886, 'Edward Smith', 'PSC 5633, Box 6573\\nAPO AE 94826', 'Official tough party at. Head leave realize so town.\\nCatch together visit worker like. Policy someone four organization better state our. Act pay move sort.', datetime.date(2002, 1, 25), 'rwilliams@chung-rice.com')\n",
      "(253282, 'Cindy Mcneil', '75504 Morales Fields\\nTonymouth, AL 89023', 'Source choose policy least though.\\nNation character must can force reach during prove. Both politics property surface American guy. Meet skin test our stage.', datetime.date(2002, 1, 25), 'bishoptimothy@hotmail.com')\n",
      "\n",
      "Explain and analyse:\n",
      "('Limit  (cost=732.13..1092.16 rows=5 width=237) (actual time=2.359..2.360 rows=5 loops=1)',)\n",
      "('  ->  Bitmap Heap Scan on customers  (cost=12.07..10885.00 rows=151 width=237) (actual time=2.161..2.358 rows=15 loops=1)',)\n",
      "(\"        Recheck Cond: ((birthday >= '2002-01-25'::date) AND (birthday <= '2002-01-27'::date))\",)\n",
      "('        Rows Removed by Index Recheck: 15008',)\n",
      "('        Heap Blocks: lossy=509',)\n",
      "('        ->  Bitmap Index Scan on d  (cost=0.00..12.03 rows=3774 width=0) (actual time=0.049..0.049 rows=6400 loops=1)',)\n",
      "(\"              Index Cond: ((birthday >= '2002-01-25'::date) AND (birthday <= '2002-01-27'::date))\",)\n",
      "('Planning Time: 0.102 ms',)\n",
      "('Execution Time: 2.381 ms',)\n"
     ]
    }
   ],
   "source": [
    "start = time.time()\n",
    "query = \"select * from customers where birthday between '2002-01-25' and '2002-01-27' offset 10 limit 5\"\n",
    "cur.execute(query)\n",
    "finish = time.time()\n",
    "print(f\"Elapsed time for the query {query}: {finish - start} seconds\\nOne of results:\")\n",
    "for r in cur:\n",
    "    print(r)\n",
    "\n",
    "\n",
    "query = \"explain analyse \" + query\n",
    "cur.execute(query)\n",
    "print(\"\\nExplain and analyse:\")\n",
    "for r in cur:\n",
    "    print(r)"
   ]
  },
  {
   "cell_type": "code",
   "execution_count": 135,
   "metadata": {},
   "outputs": [
    {
     "name": "stdout",
     "output_type": "stream",
     "text": [
      "Elapsed time for the query select * from customers where email = 'kayla90@yahoo.com': 0.0009920597076416016 seconds\n",
      "One of results:\n",
      "(721717, 'Christopher Schultz', '25221 Peterson Stream Suite 153\\nWest Keith, MN 18527', 'Environmental Democrat smile. That friend conference. Increase leader yeah.', datetime.date(2003, 7, 8), 'kayla90@yahoo.com')\n",
      "(902478, 'Jeff Mueller', '53649 Haney Stravenue\\nDianestad, IN 20288', 'Not nothing follow once before person. Face up your necessary. Support able service.\\nFly skin hundred dark finally without point part. Choose choose foreign final training outside in guy.', datetime.date(1991, 7, 13), 'kayla90@yahoo.com')\n",
      "(785632, 'Lance Figueroa', 'PSC 0516, Box 6239\\nAPO AA 65928', 'View clear full much generation somebody natural design. Remember under else any.\\nPass majority test the necessary operation.', datetime.date(1985, 7, 28), 'kayla90@yahoo.com')\n",
      "\n",
      "Explain and analyse:\n",
      "('Index Scan using e on customers  (cost=0.00..12.04 rows=2 width=237) (actual time=0.014..0.017 rows=3 loops=1)',)\n",
      "(\"  Index Cond: (email = 'kayla90@yahoo.com'::text)\",)\n",
      "('Planning Time: 0.106 ms',)\n",
      "('Execution Time: 0.029 ms',)\n"
     ]
    }
   ],
   "source": [
    "start = time.time()\n",
    "query = \"select * from customers where email = 'kayla90@yahoo.com'\"\n",
    "cur.execute(query)\n",
    "finish = time.time()\n",
    "print(f\"Elapsed time for the query {query}: {finish - start} seconds\\nOne of results:\")\n",
    "for r in cur:\n",
    "    print(r)\n",
    "\n",
    "query = \"explain analyse \" + query\n",
    "cur.execute(query)\n",
    "print(\"\\nExplain and analyse:\")\n",
    "for r in cur:\n",
    "    print(r)"
   ]
  },
  {
   "cell_type": "code",
   "execution_count": 133,
   "metadata": {},
   "outputs": [
    {
     "name": "stdout",
     "output_type": "stream",
     "text": [
      "('birthday', 0.9999986)\n",
      "('review', 0.01006887)\n",
      "('email', 0.0065962356)\n",
      "('address', -0.0015562609)\n",
      "('name', -0.009394401)\n",
      "('id', -0.01056078)\n"
     ]
    }
   ],
   "source": [
    "cur.execute(\"analyse customers;\")\n",
    "cur.execute(\"select attname, correlation from pg_stats where tablename='customers' order by correlation desc nulls last;\")\n",
    "for r in cur:\n",
    "    print(r)"
   ]
  },
  {
   "cell_type": "code",
   "execution_count": null,
   "metadata": {},
   "outputs": [],
   "source": [
    "cur.close()\n",
    "con.close()"
   ]
  }
 ],
 "metadata": {
  "interpreter": {
   "hash": "adfe6d40f7bdf22355c33f803922035b3f5e6d51409cb63d3625f4c22a58b436"
  },
  "kernelspec": {
   "display_name": "Python 3.9.12 64-bit (windows store)",
   "language": "python",
   "name": "python3"
  },
  "language_info": {
   "codemirror_mode": {
    "name": "ipython",
    "version": 3
   },
   "file_extension": ".py",
   "mimetype": "text/x-python",
   "name": "python",
   "nbconvert_exporter": "python",
   "pygments_lexer": "ipython3",
   "version": "3.9.12"
  },
  "orig_nbformat": 4
 },
 "nbformat": 4,
 "nbformat_minor": 2
}
